{
 "cells": [
  {
   "cell_type": "code",
   "execution_count": 1,
   "metadata": {},
   "outputs": [],
   "source": [
    "import numpy as np\n",
    "import scipy.optimize\n",
    "import sys"
   ]
  },
  {
   "cell_type": "code",
   "execution_count": 5,
   "metadata": {},
   "outputs": [
    {
     "name": "stdout",
     "output_type": "stream",
     "text": [
      "The maximum n is: 10\n"
     ]
    },
    {
     "ename": "SystemExit",
     "evalue": "",
     "output_type": "error",
     "traceback": [
      "An exception has occurred, use %tb to see the full traceback.\n",
      "\u001b[1;31mSystemExit\u001b[0m\n"
     ]
    }
   ],
   "source": [
    "count=1\n",
    "for i in range (1,100):\n",
    "    c=np.zeros(i)\n",
    "    b=np.zeros(i)\n",
    "    num=i\n",
    "    for j in range(0,i):\n",
    "        c[j]=-1*pow(10,num-1)\n",
    "        b[j]=pow(100,j)\n",
    "        num=num-1\n",
    "    #print(\"c:\",c)\n",
    "    #print(\"b:\",b)\n",
    "    \n",
    "    A=np.zeros((i,i))\n",
    "    for j in range(0,i):\n",
    "        num=0\n",
    "        for k in range (j,i):\n",
    "            A[k][j]=2*pow(10,num)\n",
    "            num=num+1\n",
    "    for i in range(0,i):\n",
    "        A[i][i]=1\n",
    "    #print(A)\n",
    "    res=scipy.optimize.linprog(c, A_ub=A, b_ub=b,bounds=(0,None),method='revised simplex',options={'pivot' :\"bland\"})\n",
    "    #print(res.x)\n",
    "    if(res.status!=0):\n",
    "        print(\"The maximum n is:\",count)\n",
    "        sys.exit()\n",
    "    count=count+1\n",
    "        \n",
    "    \n",
    "    \n",
    "    "
   ]
  },
  {
   "cell_type": "code",
   "execution_count": null,
   "metadata": {},
   "outputs": [],
   "source": []
  },
  {
   "cell_type": "code",
   "execution_count": null,
   "metadata": {},
   "outputs": [],
   "source": []
  },
  {
   "cell_type": "code",
   "execution_count": 5,
   "metadata": {},
   "outputs": [],
   "source": [
    "import numpy as np\n",
    "import xlrd\n",
    "\n",
    "def excel2m(path):#读excel数据转为矩阵函数\n",
    "    data = xlrd.open_workbook(path)\n",
    "    table = data.sheets()[0] # 获取excel中第一个sheet表\n",
    "    nrows = table.nrows  # 行数\n",
    "    ncols = table.ncols  # 列数\n",
    "    datamatrix = np.zeros((nrows, ncols))\n",
    "    for x in range(ncols):\n",
    "        cols = table.col_values(x)\n",
    "        cols1 = np.matrix(cols)  # 把list转换为矩阵进行矩阵操作\n",
    "        datamatrix[:, x] = cols1 # 把数据进行存储\n",
    "    return datamatrix\n",
    "\n",
    "\n",
    "m1 = excel2m(\"C:\\\\Users\\\\user\\\\Desktop\\\\simplex\\\\diet (1).xls\");\n"
   ]
  },
  {
   "cell_type": "code",
   "execution_count": 15,
   "metadata": {},
   "outputs": [],
   "source": [
    "m1=m1.T\n",
    "m1=-1*m1\n",
    "bu=np.array([-1500,-30,-20,-800,-130,-125,-60,-1000,-400,-700,-10])\n"
   ]
  },
  {
   "cell_type": "code",
   "execution_count": 29,
   "metadata": {},
   "outputs": [],
   "source": [
    "def excel2m(path):#读excel数据转为矩阵函数\n",
    "    data = xlrd.open_workbook(path)\n",
    "    table = data.sheets()[2] # 获取excel中第一个sheet表\n",
    "    nrows = table.nrows  # 行数\n",
    "    ncols = table.ncols  # 列数\n",
    "    datamatrix = np.zeros((nrows, ncols))\n",
    "    for x in range(ncols):\n",
    "        cols = table.col_values(x)\n",
    "        cols1 = np.matrix(cols)  # 把list转换为矩阵进行矩阵操作\n",
    "        datamatrix[:, x] = cols1 # 把数据进行存储\n",
    "    return datamatrix\n",
    "\n",
    "\n",
    "c2 = excel2m(\"C:\\\\Users\\\\user\\\\Desktop\\\\simplex\\\\diet (1).xls\")\n"
   ]
  },
  {
   "cell_type": "code",
   "execution_count": 35,
   "metadata": {},
   "outputs": [
    {
     "name": "stdout",
     "output_type": "stream",
     "text": [
      "1 64\n"
     ]
    }
   ],
   "source": [
    "c2=c2.T\n",
    "#print(c2)\n",
    "m,n=c2.shape\n",
    "print(m,n)"
   ]
  },
  {
   "cell_type": "code",
   "execution_count": 39,
   "metadata": {},
   "outputs": [
    {
     "name": "stdout",
     "output_type": "stream",
     "text": [
      "[[0.16 0.07 0.04 0.18 0.02 0.53 0.06 0.31 0.84 0.78 0.27 0.24 0.15 0.32\n",
      "  0.49 0.15 0.16 0.05 0.06 0.09 0.16 0.03 0.05 0.25 0.16 0.23 0.13 0.08\n",
      "  0.11 0.15 0.27 0.33 0.15 0.31 0.28 0.28 0.34 0.32 0.38 0.82 0.52 0.44\n",
      "  0.59 0.83 0.31 0.39 0.08 0.17 0.07 0.81 0.45 0.69 0.04 0.22 0.12 0.19\n",
      "  0.39 0.67 0.71 0.75 0.39 0.99 0.65 0.67]]\n"
     ]
    },
    {
     "data": {
      "text/plain": [
       "array([0.16, 0.07, 0.04, 0.18, 0.02, 0.53, 0.06, 0.31, 0.84, 0.78, 0.27,\n",
       "       0.24, 0.15, 0.32, 0.49, 0.15, 0.16, 0.05, 0.06, 0.09, 0.16, 0.03,\n",
       "       0.05, 0.25, 0.16, 0.23, 0.13, 0.08, 0.11, 0.15, 0.27, 0.33, 0.15,\n",
       "       0.31, 0.28, 0.28, 0.34, 0.32, 0.38, 0.82, 0.52, 0.44, 0.59, 0.83,\n",
       "       0.31, 0.39, 0.08, 0.17, 0.07, 0.81, 0.45, 0.69, 0.04, 0.22, 0.12,\n",
       "       0.19, 0.39, 0.67, 0.71, 0.75, 0.39, 0.99, 0.65, 0.67])"
      ]
     },
     "execution_count": 39,
     "metadata": {},
     "output_type": "execute_result"
    }
   ],
   "source": [
    "\n",
    "c1=np.zeros(n)\n",
    "for i in range(0,n):\n",
    "   c1[i]=c2[0][i] \n"
   ]
  },
  {
   "cell_type": "code",
   "execution_count": 45,
   "metadata": {},
   "outputs": [
    {
     "data": {
      "text/plain": [
       "1.570312971592117"
      ]
     },
     "execution_count": 45,
     "metadata": {},
     "output_type": "execute_result"
    }
   ],
   "source": [
    "import scipy.optimize\n",
    "res1=scipy.optimize.linprog(c1, A_ub=m1, b_ub=bu,bounds=(0,None),method='highs-ds',options={'simplex_dual_edge_weight_strategy' : \"steepest\"}) \n",
    "res1.fun"
   ]
  }
 ],
 "metadata": {
  "kernelspec": {
   "display_name": "py",
   "language": "python",
   "name": "python3"
  },
  "language_info": {
   "codemirror_mode": {
    "name": "ipython",
    "version": 3
   },
   "file_extension": ".py",
   "mimetype": "text/x-python",
   "name": "python",
   "nbconvert_exporter": "python",
   "pygments_lexer": "ipython3",
   "version": "3.10.4 | packaged by conda-forge | (main, Mar 30 2022, 08:38:02) [MSC v.1916 64 bit (AMD64)]"
  },
  "orig_nbformat": 4,
  "vscode": {
   "interpreter": {
    "hash": "22216b08ebab8be3394fec349c00ce696f41ecd13338106d20d108b8649c16c1"
   }
  }
 },
 "nbformat": 4,
 "nbformat_minor": 2
}
